{
 "cells": [
  {
   "cell_type": "code",
   "execution_count": 1,
   "metadata": {},
   "outputs": [],
   "source": [
    "import utils\n",
    "import visualization\n",
    "import numpy as np\n",
    "import os\n",
    "from IPython.display import display, Video\n",
    "from dec_tswap.example_agent import RandomAgent, SmartRandomAgent, ShortestPathAgent\n",
    "from dec_tswap.path_table import PathTable\n",
    "from dec_tswap.base_tswap_agent import BaseTSWAPAgent, BaseTSWAPParams\n",
    "from manavlib.common.params import ExperimentParams, BaseDiscreteAgentParams\n",
    "import manavlib.io.xml_io as new_io"
   ]
  },
  {
   "cell_type": "code",
   "execution_count": null,
   "metadata": {},
   "outputs": [],
   "source": [
    "# List of supported algorithm names for the experiment.\n",
    "ALGORITHMS_NAMES = [\n",
    "    \"random\",  # Uses random actions\n",
    "    \"smart_random\",  # Uses random safe actions\n",
    "    \"shortest_path\",  # Follows the shortest path to closes goal\n",
    "    \"base_tswap\",  # Semi-decentralized TSWAP, requires consistent initial assignment\n",
    "    \"base_tswap_centr\",  # Centralized TSWAP, requires consistent initial assignment\n",
    "    \"naive_dec_tswap\",  # Naive fully decentralized TSWAP\n",
    "    \"dec_tswap\",  # Fully decentralized TP-SWAP\n",
    "]\n",
    "\n",
    "ALGORITHM_NAME = ALGORITHMS_NAMES[\n",
    "    6\n",
    "]  # Select the algorithm to be used (dec_tswap in this case).\n",
    "TASK_SUFFIX = \"_task.xml\"  # Set task file naming convention with a suffix (_task.xml).\n",
    "TASK_DIR = \"../tasks/example\"  # Define the directory path where task files are located.\n",
    "MAP_PATH = os.path.join(\n",
    "    TASK_DIR, \"map.xml\"\n",
    ")  # Specify the paths for the map and configuration files.\n",
    "CONFIG_PATH = os.path.join(TASK_DIR, f\"{ALGORITHM_NAME}_config.xml\")\n",
    "TASK_ID = 0  # Select TASK_ID for the experiment, indicating the specific task to load."
   ]
  },
  {
   "cell_type": "code",
   "execution_count": 3,
   "metadata": {},
   "outputs": [],
   "source": [
    "agents_num = 10  # Set the number of agents for the experiment.\n",
    "exp_params, alg_params = new_io.read_xml_config(\n",
    "    CONFIG_PATH\n",
    ")  # Read experiment and algorithm parameters from the XML configuration file.\n",
    "h, w, cs, grid_map = new_io.read_xml_map(\n",
    "    MAP_PATH\n",
    ")  # Load map data from the XML map file.\n",
    "exp_params.max_steps = 1000  # Set the maximum number of steps for the experiment."
   ]
  },
  {
   "cell_type": "code",
   "execution_count": 4,
   "metadata": {},
   "outputs": [],
   "source": [
    "task_file = f\"{TASK_ID}{TASK_SUFFIX}\"\n",
    "task_path = os.path.join(TASK_DIR, task_file)\n",
    "\n",
    "# Read the start positions, goal positions, and agent-specific parameters from the XML task file.\n",
    "default_params, starts, goals, ag_params = new_io.read_xml_agents(task_path)\n",
    "\n",
    "# Precompute paths to a subset of goal positions (for the given number of agents).\n",
    "path_table = PathTable(grid_map, goals[:agents_num])"
   ]
  },
  {
   "cell_type": "code",
   "execution_count": 5,
   "metadata": {},
   "outputs": [
    {
     "name": "stdout",
     "output_type": "stream",
     "text": [
      "success  collision  collision_obst   makespan   flowtime    runtime     mean_groups     mean_groups_size     number\n",
      "      1          0               0        143        535      0.111           8.210                 1.24         10\n"
     ]
    }
   ],
   "source": [
    "print(utils.Summary.header())\n",
    "\n",
    "summary, steps_log, neighbors_log = utils.run_experiment(\n",
    "    starts,\n",
    "    goals,\n",
    "    grid_map,\n",
    "    cs,\n",
    "    agents_num,\n",
    "    utils.get_agent_type(type(alg_params)),\n",
    "    ag_params,\n",
    "    alg_params,\n",
    "    exp_params,\n",
    "    path_table,\n",
    "    True,\n",
    ")\n",
    "\n",
    "print(summary)"
   ]
  },
  {
   "cell_type": "code",
   "execution_count": 6,
   "metadata": {},
   "outputs": [
    {
     "data": {
      "text/html": [
       "<video src=\"img/animated_trajectories.mp4\" controls  >\n",
       "      Your browser does not support the <code>video</code> element.\n",
       "    </video>"
      ],
      "text/plain": [
       "<IPython.core.display.Video object>"
      ]
     },
     "metadata": {},
     "output_type": "display_data"
    }
   ],
   "source": [
    "output_dir = \"img\"\n",
    "output_filename = \"animated_trajectories\"\n",
    "output_ext = \"mp4\"\n",
    "output_path = os.path.join(output_dir, f\"{output_filename}.{output_ext}\")\n",
    "visualization.draw(\n",
    "    grid_map, goals, steps_log, neighbors_log, 20, 20, output_path\n",
    ")\n",
    "display(Video(filename=output_path))"
   ]
  },
  {
   "cell_type": "code",
   "execution_count": null,
   "metadata": {},
   "outputs": [],
   "source": []
  }
 ],
 "metadata": {
  "kernelspec": {
   "display_name": "base",
   "language": "python",
   "name": "python3"
  },
  "language_info": {
   "codemirror_mode": {
    "name": "ipython",
    "version": 3
   },
   "file_extension": ".py",
   "mimetype": "text/x-python",
   "name": "python",
   "nbconvert_exporter": "python",
   "pygments_lexer": "ipython3",
   "version": "3.11.7"
  }
 },
 "nbformat": 4,
 "nbformat_minor": 2
}
