{
 "cells": [
  {
   "cell_type": "code",
   "execution_count": 1,
   "metadata": {},
   "outputs": [],
   "source": [
    "import utils\n",
    "import os\n",
    "import datetime\n",
    "from tqdm.notebook import trange\n",
    "from IPython.display import display\n",
    "import pandas as pd\n",
    "from dec_tswap.path_table import PathTable\n",
    "import manavlib.io.xml_io as xml_io"
   ]
  },
  {
   "cell_type": "markdown",
   "metadata": {},
   "source": [
    "# Experiments"
   ]
  },
  {
   "cell_type": "markdown",
   "metadata": {},
   "source": [
    "## Configuration"
   ]
  },
  {
   "cell_type": "code",
   "execution_count": 2,
   "metadata": {},
   "outputs": [],
   "source": [
    "TASK_SUFFIX = \"_task.xml\"  # Set task file naming convention with a suffix (_task.xml).\n",
    "MAP_FILE = \"map.xml\"  # Specify the name for the map file.\n",
    "RESULT_FILE = \"result.txt\"  # Define a name for the result file.\n",
    "\n",
    "TASK_DIR = (\n",
    "    \"../tasks/example/\"  # Define the directory path where task files are located.\n",
    ")\n",
    "CONFIG_FILE = \"dec_tswap_config.xml\"  # Select the algorithm (by choosing the config file) to be used (dec_tswap in this case).\n",
    "RESULT_DIR = \"./results/\"  # Define the directory path for the result file.\n",
    "\n",
    "\n",
    "AGENTS_FROM = 10  # Starting number of agents for the experiment.\n",
    "AGENTS_TO = 60  # Maximum number of agents for the experiment.\n",
    "AGENTS_STEP = 10  # Increment step for the number of agents in experiment run.\n",
    "TASK_NUM = 10  # Number of tasks to run."
   ]
  },
  {
   "cell_type": "code",
   "execution_count": 3,
   "metadata": {},
   "outputs": [],
   "source": [
    "map_path = os.path.join(TASK_DIR, MAP_FILE)\n",
    "config_path = os.path.join(TASK_DIR, CONFIG_FILE)\n",
    "\n",
    "# Read experiment and algorithm parameters from the XML configuration file.\n",
    "exp_params, alg_params = xml_io.read_xml_config(config_path)\n",
    "\n",
    "# Load map data from the XML map file.\n",
    "h, w, cs, grid_map = xml_io.read_xml_map(map_path)"
   ]
  },
  {
   "cell_type": "markdown",
   "metadata": {},
   "source": [
    "## Experiemnts Execution"
   ]
  },
  {
   "cell_type": "code",
   "execution_count": 4,
   "metadata": {},
   "outputs": [
    {
     "data": {
      "application/vnd.jupyter.widget-view+json": {
       "model_id": "61c2424ef47741fc86e37f14a3af1e24",
       "version_major": 2,
       "version_minor": 0
      },
      "text/plain": [
       "                      0%|          | 0/10 [00:00<?, ?it/s]"
      ]
     },
     "metadata": {},
     "output_type": "display_data"
    },
    {
     "data": {
      "application/vnd.jupyter.widget-view+json": {
       "model_id": "4eff3a84dbae446091b3a650ac4afcf7",
       "version_major": 2,
       "version_minor": 0
      },
      "text/plain": [
       "                      0%|          | 0/6 [00:00<?, ?it/s]"
      ]
     },
     "metadata": {},
     "output_type": "display_data"
    },
    {
     "data": {
      "application/vnd.jupyter.widget-view+json": {
       "model_id": "2ec961f07ac64a2ca7373df79f69656b",
       "version_major": 2,
       "version_minor": 0
      },
      "text/plain": [
       "                      0%|          | 0/6 [00:00<?, ?it/s]"
      ]
     },
     "metadata": {},
     "output_type": "display_data"
    },
    {
     "data": {
      "application/vnd.jupyter.widget-view+json": {
       "model_id": "81503f122b614f1bb2d6ed5e44f5c922",
       "version_major": 2,
       "version_minor": 0
      },
      "text/plain": [
       "                      0%|          | 0/6 [00:00<?, ?it/s]"
      ]
     },
     "metadata": {},
     "output_type": "display_data"
    },
    {
     "data": {
      "application/vnd.jupyter.widget-view+json": {
       "model_id": "684980dfcbc64ca3a38740bad5282d3b",
       "version_major": 2,
       "version_minor": 0
      },
      "text/plain": [
       "                      0%|          | 0/6 [00:00<?, ?it/s]"
      ]
     },
     "metadata": {},
     "output_type": "display_data"
    },
    {
     "data": {
      "application/vnd.jupyter.widget-view+json": {
       "model_id": "a3a7246defe244ed836361cea2ead41f",
       "version_major": 2,
       "version_minor": 0
      },
      "text/plain": [
       "                      0%|          | 0/6 [00:00<?, ?it/s]"
      ]
     },
     "metadata": {},
     "output_type": "display_data"
    },
    {
     "data": {
      "application/vnd.jupyter.widget-view+json": {
       "model_id": "1a2fd43003d142648911c831ad48365a",
       "version_major": 2,
       "version_minor": 0
      },
      "text/plain": [
       "                      0%|          | 0/6 [00:00<?, ?it/s]"
      ]
     },
     "metadata": {},
     "output_type": "display_data"
    },
    {
     "data": {
      "application/vnd.jupyter.widget-view+json": {
       "model_id": "c5ea948006754087940b61f1f272915b",
       "version_major": 2,
       "version_minor": 0
      },
      "text/plain": [
       "                      0%|          | 0/6 [00:00<?, ?it/s]"
      ]
     },
     "metadata": {},
     "output_type": "display_data"
    },
    {
     "data": {
      "application/vnd.jupyter.widget-view+json": {
       "model_id": "9fc7288f30924c0a921b08b5d859a41c",
       "version_major": 2,
       "version_minor": 0
      },
      "text/plain": [
       "                      0%|          | 0/6 [00:00<?, ?it/s]"
      ]
     },
     "metadata": {},
     "output_type": "display_data"
    },
    {
     "data": {
      "application/vnd.jupyter.widget-view+json": {
       "model_id": "6a2b7b3875d74de7817ee46292dd974d",
       "version_major": 2,
       "version_minor": 0
      },
      "text/plain": [
       "                      0%|          | 0/6 [00:00<?, ?it/s]"
      ]
     },
     "metadata": {},
     "output_type": "display_data"
    },
    {
     "data": {
      "application/vnd.jupyter.widget-view+json": {
       "model_id": "0f994956ca3e4ac4a2ec65ba15d2d694",
       "version_major": 2,
       "version_minor": 0
      },
      "text/plain": [
       "                      0%|          | 0/6 [00:00<?, ?it/s]"
      ]
     },
     "metadata": {},
     "output_type": "display_data"
    }
   ],
   "source": [
    "result_path = os.path.join(RESULT_DIR, f\"{RESULT_FILE}\")\n",
    "result_file = open(result_path, \"w\")\n",
    "result_file.write(utils.Summary.header() + \"\\n\")\n",
    "for task_id in (\n",
    "    pbar_task := trange(\n",
    "        TASK_NUM, bar_format=\"{desc:<20}{percentage:3.0f}%|{bar}{r_bar}\"\n",
    "    )\n",
    "):\n",
    "    pbar_task.set_description(f\"{task_id+1} / {TASK_NUM} task\")\n",
    "    pbar_task.refresh()\n",
    "    task_file = f\"{task_id}{TASK_SUFFIX}\"\n",
    "    task_path = os.path.join(TASK_DIR, task_file)\n",
    "    default_params, starts, goals, ag_params = xml_io.read_xml_agents(task_path)\n",
    "    path_table = PathTable(grid_map, goals[:AGENTS_TO])\n",
    "    for agents_num in (\n",
    "        pbar_agent := trange(\n",
    "            AGENTS_FROM,\n",
    "            AGENTS_TO + 1,\n",
    "            AGENTS_STEP,\n",
    "            colour=\"#FFA500\",\n",
    "            bar_format=\"{desc:<20}{percentage:3.0f}%|{bar}{r_bar}\",\n",
    "        )\n",
    "    ):\n",
    "        pbar_agent.set_description(\n",
    "            f\"Task {task_id}. {agents_num}/{AGENTS_TO} agents\",\n",
    "        )\n",
    "        pbar_agent.refresh()\n",
    "\n",
    "        summary, steps_log, neighbors_log = utils.run_experiment(\n",
    "            starts,\n",
    "            goals,\n",
    "            grid_map,\n",
    "            cs,\n",
    "            agents_num,\n",
    "            utils.get_agent_type(type(alg_params)),\n",
    "            ag_params,\n",
    "            alg_params,\n",
    "            exp_params,\n",
    "            path_table,\n",
    "            False,\n",
    "        )\n",
    "\n",
    "        result_file.write(str(summary) + \"\\n\")\n",
    "result_file.close()"
   ]
  },
  {
   "cell_type": "markdown",
   "metadata": {},
   "source": [
    "## Preliminarily Results Processing"
   ]
  },
  {
   "cell_type": "code",
   "execution_count": 5,
   "metadata": {},
   "outputs": [
    {
     "data": {
      "text/html": [
       "<div>\n",
       "<style scoped>\n",
       "    .dataframe tbody tr th:only-of-type {\n",
       "        vertical-align: middle;\n",
       "    }\n",
       "\n",
       "    .dataframe tbody tr th {\n",
       "        vertical-align: top;\n",
       "    }\n",
       "\n",
       "    .dataframe thead th {\n",
       "        text-align: right;\n",
       "    }\n",
       "</style>\n",
       "<table border=\"1\" class=\"dataframe\">\n",
       "  <thead>\n",
       "    <tr style=\"text-align: right;\">\n",
       "      <th></th>\n",
       "      <th>success</th>\n",
       "      <th>collision</th>\n",
       "      <th>collision_obst</th>\n",
       "      <th>makespan</th>\n",
       "      <th>flowtime</th>\n",
       "      <th>runtime</th>\n",
       "      <th>mean_groups</th>\n",
       "      <th>mean_groups_size</th>\n",
       "      <th>number</th>\n",
       "    </tr>\n",
       "  </thead>\n",
       "  <tbody>\n",
       "    <tr>\n",
       "      <th>0</th>\n",
       "      <td>1</td>\n",
       "      <td>0</td>\n",
       "      <td>0</td>\n",
       "      <td>76</td>\n",
       "      <td>259</td>\n",
       "      <td>0.064</td>\n",
       "      <td>9.329</td>\n",
       "      <td>1.08</td>\n",
       "      <td>10</td>\n",
       "    </tr>\n",
       "    <tr>\n",
       "      <th>1</th>\n",
       "      <td>1</td>\n",
       "      <td>0</td>\n",
       "      <td>0</td>\n",
       "      <td>82</td>\n",
       "      <td>502</td>\n",
       "      <td>0.194</td>\n",
       "      <td>15.537</td>\n",
       "      <td>1.29</td>\n",
       "      <td>20</td>\n",
       "    </tr>\n",
       "    <tr>\n",
       "      <th>2</th>\n",
       "      <td>1</td>\n",
       "      <td>0</td>\n",
       "      <td>0</td>\n",
       "      <td>87</td>\n",
       "      <td>519</td>\n",
       "      <td>0.487</td>\n",
       "      <td>22.000</td>\n",
       "      <td>1.38</td>\n",
       "      <td>30</td>\n",
       "    </tr>\n",
       "    <tr>\n",
       "      <th>3</th>\n",
       "      <td>1</td>\n",
       "      <td>0</td>\n",
       "      <td>0</td>\n",
       "      <td>46</td>\n",
       "      <td>444</td>\n",
       "      <td>0.475</td>\n",
       "      <td>26.500</td>\n",
       "      <td>1.52</td>\n",
       "      <td>40</td>\n",
       "    </tr>\n",
       "    <tr>\n",
       "      <th>4</th>\n",
       "      <td>1</td>\n",
       "      <td>0</td>\n",
       "      <td>0</td>\n",
       "      <td>73</td>\n",
       "      <td>771</td>\n",
       "      <td>1.200</td>\n",
       "      <td>30.644</td>\n",
       "      <td>1.64</td>\n",
       "      <td>50</td>\n",
       "    </tr>\n",
       "  </tbody>\n",
       "</table>\n",
       "</div>"
      ],
      "text/plain": [
       "   success  collision  collision_obst  makespan  flowtime  runtime  \\\n",
       "0        1          0               0        76       259    0.064   \n",
       "1        1          0               0        82       502    0.194   \n",
       "2        1          0               0        87       519    0.487   \n",
       "3        1          0               0        46       444    0.475   \n",
       "4        1          0               0        73       771    1.200   \n",
       "\n",
       "   mean_groups  mean_groups_size  number  \n",
       "0        9.329              1.08      10  \n",
       "1       15.537              1.29      20  \n",
       "2       22.000              1.38      30  \n",
       "3       26.500              1.52      40  \n",
       "4       30.644              1.64      50  "
      ]
     },
     "execution_count": 5,
     "metadata": {},
     "output_type": "execute_result"
    }
   ],
   "source": [
    "results = pd.read_table(result_path, skipinitialspace=True, sep=\" \")\n",
    "results.head()"
   ]
  },
  {
   "cell_type": "code",
   "execution_count": 6,
   "metadata": {},
   "outputs": [
    {
     "data": {
      "text/html": [
       "<style type=\"text/css\">\n",
       "</style>\n",
       "<table id=\"T_572ae\">\n",
       "  <thead>\n",
       "    <tr>\n",
       "      <th class=\"blank level0\" >&nbsp;</th>\n",
       "      <th id=\"T_572ae_level0_col0\" class=\"col_heading level0 col0\" >success rate</th>\n",
       "      <th id=\"T_572ae_level0_col1\" class=\"col_heading level0 col1\" >flowtime</th>\n",
       "      <th id=\"T_572ae_level0_col2\" class=\"col_heading level0 col2\" >makespan</th>\n",
       "      <th id=\"T_572ae_level0_col3\" class=\"col_heading level0 col3\" >runtime</th>\n",
       "    </tr>\n",
       "    <tr>\n",
       "      <th class=\"index_name level0\" >number</th>\n",
       "      <th class=\"blank col0\" >&nbsp;</th>\n",
       "      <th class=\"blank col1\" >&nbsp;</th>\n",
       "      <th class=\"blank col2\" >&nbsp;</th>\n",
       "      <th class=\"blank col3\" >&nbsp;</th>\n",
       "    </tr>\n",
       "  </thead>\n",
       "  <tbody>\n",
       "    <tr>\n",
       "      <th id=\"T_572ae_level0_row0\" class=\"row_heading level0 row0\" >10</th>\n",
       "      <td id=\"T_572ae_row0_col0\" class=\"data row0 col0\" >100%</td>\n",
       "      <td id=\"T_572ae_row0_col1\" class=\"data row0 col1\" >226.6</td>\n",
       "      <td id=\"T_572ae_row0_col2\" class=\"data row0 col2\" >59.9</td>\n",
       "      <td id=\"T_572ae_row0_col3\" class=\"data row0 col3\" >0.055</td>\n",
       "    </tr>\n",
       "    <tr>\n",
       "      <th id=\"T_572ae_level0_row1\" class=\"row_heading level0 row1\" >20</th>\n",
       "      <td id=\"T_572ae_row1_col0\" class=\"data row1 col0\" >100%</td>\n",
       "      <td id=\"T_572ae_row1_col1\" class=\"data row1 col1\" >387.2</td>\n",
       "      <td id=\"T_572ae_row1_col2\" class=\"data row1 col2\" >66.1</td>\n",
       "      <td id=\"T_572ae_row1_col3\" class=\"data row1 col3\" >0.150</td>\n",
       "    </tr>\n",
       "    <tr>\n",
       "      <th id=\"T_572ae_level0_row2\" class=\"row_heading level0 row2\" >30</th>\n",
       "      <td id=\"T_572ae_row2_col0\" class=\"data row2 col0\" >100%</td>\n",
       "      <td id=\"T_572ae_row2_col1\" class=\"data row2 col1\" >523.7</td>\n",
       "      <td id=\"T_572ae_row2_col2\" class=\"data row2 col2\" >72.6</td>\n",
       "      <td id=\"T_572ae_row2_col3\" class=\"data row2 col3\" >0.356</td>\n",
       "    </tr>\n",
       "    <tr>\n",
       "      <th id=\"T_572ae_level0_row3\" class=\"row_heading level0 row3\" >40</th>\n",
       "      <td id=\"T_572ae_row3_col0\" class=\"data row3 col0\" >100%</td>\n",
       "      <td id=\"T_572ae_row3_col1\" class=\"data row3 col1\" >581.3</td>\n",
       "      <td id=\"T_572ae_row3_col2\" class=\"data row3 col2\" >73.1</td>\n",
       "      <td id=\"T_572ae_row3_col3\" class=\"data row3 col3\" >0.724</td>\n",
       "    </tr>\n",
       "    <tr>\n",
       "      <th id=\"T_572ae_level0_row4\" class=\"row_heading level0 row4\" >50</th>\n",
       "      <td id=\"T_572ae_row4_col0\" class=\"data row4 col0\" >100%</td>\n",
       "      <td id=\"T_572ae_row4_col1\" class=\"data row4 col1\" >765.7</td>\n",
       "      <td id=\"T_572ae_row4_col2\" class=\"data row4 col2\" >71.5</td>\n",
       "      <td id=\"T_572ae_row4_col3\" class=\"data row4 col3\" >1.282</td>\n",
       "    </tr>\n",
       "    <tr>\n",
       "      <th id=\"T_572ae_level0_row5\" class=\"row_heading level0 row5\" >60</th>\n",
       "      <td id=\"T_572ae_row5_col0\" class=\"data row5 col0\" >100%</td>\n",
       "      <td id=\"T_572ae_row5_col1\" class=\"data row5 col1\" >831.9</td>\n",
       "      <td id=\"T_572ae_row5_col2\" class=\"data row5 col2\" >67.0</td>\n",
       "      <td id=\"T_572ae_row5_col3\" class=\"data row5 col3\" >1.920</td>\n",
       "    </tr>\n",
       "  </tbody>\n",
       "</table>\n"
      ],
      "text/plain": [
       "<pandas.io.formats.style.Styler at 0x177c0db90>"
      ]
     },
     "execution_count": 6,
     "metadata": {},
     "output_type": "execute_result"
    }
   ],
   "source": [
    "gr_results = results.groupby(\"number\")\n",
    "sr = pd.DataFrame()\n",
    "sr[\"success rate\"] = gr_results[\"success\"].mean()\n",
    "\n",
    "success_results = results.drop(results[results.success < 1].index)\n",
    "\n",
    "sr[\"flowtime\"] = gr_results[\"flowtime\"].mean()\n",
    "sr[\"makespan\"] = gr_results[\"makespan\"].mean()\n",
    "sr[\"runtime\"] = gr_results[\"runtime\"].mean()\n",
    "sr_style = sr.style.format(\n",
    "    {\n",
    "        \"success rate\": \"{:.0%}\",\n",
    "        \"flowtime\": \"{:.1f}\",\n",
    "        \"makespan\": \"{:.1f}\",\n",
    "        \"runtime\": \"{:.3f}\",\n",
    "    }\n",
    ")\n",
    "sr_style"
   ]
  },
  {
   "cell_type": "code",
   "execution_count": null,
   "metadata": {},
   "outputs": [],
   "source": []
  }
 ],
 "metadata": {
  "kernelspec": {
   "display_name": "base",
   "language": "python",
   "name": "python3"
  },
  "language_info": {
   "codemirror_mode": {
    "name": "ipython",
    "version": 3
   },
   "file_extension": ".py",
   "mimetype": "text/x-python",
   "name": "python",
   "nbconvert_exporter": "python",
   "pygments_lexer": "ipython3",
   "version": "3.11.7"
  }
 },
 "nbformat": 4,
 "nbformat_minor": 2
}
